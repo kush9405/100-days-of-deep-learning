{
  "cells": [
    {
      "cell_type": "markdown",
      "metadata": {
        "colab_type": "text",
        "id": "view-in-github"
      },
      "source": [
        "<a href=\"https://colab.research.google.com/github/kush9405/100-days-of-deep-learning/blob/main/customer_churn_rate.ipynb\" target=\"_parent\"><img src=\"https://colab.research.google.com/assets/colab-badge.svg\" alt=\"Open In Colab\"/></a>"
      ]
    },
    {
      "cell_type": "code",
      "execution_count": 1,
      "metadata": {
        "colab": {
          "base_uri": "https://localhost:8080/"
        },
        "id": "A_BVoFFDPSLX",
        "outputId": "6f8ba296-afd7-491e-c856-c2b16df60233"
      },
      "outputs": [
        {
          "name": "stdout",
          "output_type": "stream",
          "text": [
            "Warning: Looks like you're using an outdated `kagglehub` version (installed: 0.3.6), please consider upgrading to the latest version (0.3.7).\n",
            "Downloading from https://www.kaggle.com/api/v1/datasets/download/rjmanoj/credit-card-customer-churn-prediction?dataset_version_number=1...\n"
          ]
        },
        {
          "name": "stderr",
          "output_type": "stream",
          "text": [
            "100%|██████████| 262k/262k [00:00<00:00, 22.7MB/s]"
          ]
        },
        {
          "name": "stdout",
          "output_type": "stream",
          "text": [
            "Extracting files...\n",
            "Data source import complete.\n"
          ]
        },
        {
          "name": "stderr",
          "output_type": "stream",
          "text": [
            "\n"
          ]
        }
      ],
      "source": [
        "# IMPORTANT: RUN THIS CELL IN ORDER TO IMPORT YOUR KAGGLE DATA SOURCES,\n",
        "# THEN FEEL FREE TO DELETE THIS CELL.\n",
        "# NOTE: THIS NOTEBOOK ENVIRONMENT DIFFERS FROM KAGGLE'S PYTHON\n",
        "# ENVIRONMENT SO THERE MAY BE MISSING LIBRARIES USED BY YOUR\n",
        "# NOTEBOOK.\n",
        "import kagglehub\n",
        "rjmanoj_credit_card_customer_churn_prediction_path = kagglehub.dataset_download('rjmanoj/credit-card-customer-churn-prediction')\n",
        "\n",
        "print('Data source import complete.')\n"
      ]
    },
    {
      "cell_type": "code",
      "execution_count": null,
      "metadata": {
        "_cell_guid": "b1076dfc-b9ad-4769-8c92-a6c4dae69d19",
        "_uuid": "8f2839f25d086af736a60e9eeb907d3b93b6e0e5",
        "execution": {
          "iopub.execute_input": "2022-03-06T03:32:33.905991Z",
          "iopub.status.busy": "2022-03-06T03:32:33.905585Z",
          "iopub.status.idle": "2022-03-06T03:32:33.939484Z",
          "shell.execute_reply": "2022-03-06T03:32:33.93888Z",
          "shell.execute_reply.started": "2022-03-06T03:32:33.905892Z"
        },
        "id": "tLbTrUePPSLY",
        "trusted": true
      },
      "outputs": [],
      "source": [
        "# This Python 3 environment comes with many helpful analytics libraries installed\n",
        "# It is defined by the kaggle/python Docker image: https://github.com/kaggle/docker-python\n",
        "# For example, here's several helpful packages to load\n",
        "\n",
        "import numpy as np # linear algebra\n",
        "import pandas as pd # data processing, CSV file I/O (e.g. pd.read_csv)\n",
        "\n",
        "# Input data files are available in the read-only \"../input/\" directory\n",
        "# For example, running this (by clicking run or pressing Shift+Enter) will list all files under the input directory\n",
        "\n",
        "import os\n",
        "for dirname, _, filenames in os.walk('/kaggle/input'):\n",
        "    for filename in filenames:\n",
        "        print(os.path.join(dirname, filename))\n",
        "\n",
        "# You can write up to 20GB to the current directory (/kaggle/working/) that gets preserved as output when you create a version using \"Save & Run All\"\n",
        "# You can also write temporary files to /kaggle/temp/, but they won't be saved outside of the current session"
      ]
    },
    {
      "cell_type": "code",
      "execution_count": null,
      "metadata": {
        "execution": {
          "iopub.execute_input": "2022-03-06T03:32:56.586925Z",
          "iopub.status.busy": "2022-03-06T03:32:56.586618Z",
          "iopub.status.idle": "2022-03-06T03:32:56.633466Z",
          "shell.execute_reply": "2022-03-06T03:32:56.632634Z",
          "shell.execute_reply.started": "2022-03-06T03:32:56.586892Z"
        },
        "id": "RiL4vCsnPSLY",
        "trusted": true
      },
      "outputs": [],
      "source": [
        "df = pd.read_csv('/kaggle/input/credit-card-customer-churn-prediction/Churn_Modelling.csv')"
      ]
    },
    {
      "cell_type": "code",
      "execution_count": null,
      "metadata": {
        "execution": {
          "iopub.execute_input": "2022-03-06T03:33:04.565582Z",
          "iopub.status.busy": "2022-03-06T03:33:04.565302Z",
          "iopub.status.idle": "2022-03-06T03:33:04.590711Z",
          "shell.execute_reply": "2022-03-06T03:33:04.590106Z",
          "shell.execute_reply.started": "2022-03-06T03:33:04.565552Z"
        },
        "id": "XKFyYy0fPSLZ",
        "trusted": true
      },
      "outputs": [],
      "source": [
        "df.head()"
      ]
    },
    {
      "cell_type": "code",
      "execution_count": null,
      "metadata": {
        "execution": {
          "iopub.execute_input": "2022-03-06T03:33:16.956409Z",
          "iopub.status.busy": "2022-03-06T03:33:16.956107Z",
          "iopub.status.idle": "2022-03-06T03:33:16.969099Z",
          "shell.execute_reply": "2022-03-06T03:33:16.968191Z",
          "shell.execute_reply.started": "2022-03-06T03:33:16.956376Z"
        },
        "id": "800qzzCvPSLZ",
        "trusted": true
      },
      "outputs": [],
      "source": [
        "df.drop(columns = ['RowNumber','CustomerId','Surname'],inplace=True)"
      ]
    },
    {
      "cell_type": "code",
      "execution_count": null,
      "metadata": {
        "execution": {
          "iopub.execute_input": "2022-03-06T03:33:25.597651Z",
          "iopub.status.busy": "2022-03-06T03:33:25.596737Z",
          "iopub.status.idle": "2022-03-06T03:33:25.613054Z",
          "shell.execute_reply": "2022-03-06T03:33:25.612113Z",
          "shell.execute_reply.started": "2022-03-06T03:33:25.597603Z"
        },
        "id": "y43rKRq_PSLZ",
        "trusted": true
      },
      "outputs": [],
      "source": [
        "df.head()"
      ]
    },
    {
      "cell_type": "code",
      "execution_count": null,
      "metadata": {
        "execution": {
          "iopub.execute_input": "2022-03-06T03:33:36.321542Z",
          "iopub.status.busy": "2022-03-06T03:33:36.320838Z",
          "iopub.status.idle": "2022-03-06T03:33:36.333826Z",
          "shell.execute_reply": "2022-03-06T03:33:36.333097Z",
          "shell.execute_reply.started": "2022-03-06T03:33:36.321507Z"
        },
        "id": "cF-mNBvwPSLa",
        "trusted": true
      },
      "outputs": [],
      "source": [
        "df['Geography'].value_counts()"
      ]
    },
    {
      "cell_type": "code",
      "execution_count": null,
      "metadata": {
        "execution": {
          "iopub.execute_input": "2022-03-06T03:33:45.386793Z",
          "iopub.status.busy": "2022-03-06T03:33:45.385967Z",
          "iopub.status.idle": "2022-03-06T03:33:45.39533Z",
          "shell.execute_reply": "2022-03-06T03:33:45.394438Z",
          "shell.execute_reply.started": "2022-03-06T03:33:45.386756Z"
        },
        "id": "aaACDTsNPSLa",
        "trusted": true
      },
      "outputs": [],
      "source": [
        "df['Gender'].value_counts()"
      ]
    },
    {
      "cell_type": "code",
      "execution_count": null,
      "metadata": {
        "execution": {
          "iopub.execute_input": "2022-03-06T03:33:54.382275Z",
          "iopub.status.busy": "2022-03-06T03:33:54.381775Z",
          "iopub.status.idle": "2022-03-06T03:33:54.399399Z",
          "shell.execute_reply": "2022-03-06T03:33:54.398368Z",
          "shell.execute_reply.started": "2022-03-06T03:33:54.382234Z"
        },
        "id": "AA8Bg6LgPSLa",
        "trusted": true
      },
      "outputs": [],
      "source": [
        "df = pd.get_dummies(df,columns=['Geography','Gender'],drop_first=True)"
      ]
    },
    {
      "cell_type": "code",
      "execution_count": null,
      "metadata": {
        "execution": {
          "iopub.execute_input": "2022-03-06T03:34:05.465611Z",
          "iopub.status.busy": "2022-03-06T03:34:05.465041Z",
          "iopub.status.idle": "2022-03-06T03:34:05.481994Z",
          "shell.execute_reply": "2022-03-06T03:34:05.481205Z",
          "shell.execute_reply.started": "2022-03-06T03:34:05.465567Z"
        },
        "id": "UDJTzMbxPSLa",
        "trusted": true
      },
      "outputs": [],
      "source": [
        "df.head()"
      ]
    },
    {
      "cell_type": "code",
      "execution_count": null,
      "metadata": {
        "execution": {
          "iopub.execute_input": "2022-03-06T03:34:15.21198Z",
          "iopub.status.busy": "2022-03-06T03:34:15.211214Z",
          "iopub.status.idle": "2022-03-06T03:34:16.378692Z",
          "shell.execute_reply": "2022-03-06T03:34:16.377875Z",
          "shell.execute_reply.started": "2022-03-06T03:34:15.211936Z"
        },
        "id": "eZl6h6maPSLb",
        "trusted": true
      },
      "outputs": [],
      "source": [
        "X = df.drop(columns=['Exited'])\n",
        "y = df['Exited'].values\n",
        "\n",
        "from sklearn.model_selection import train_test_split\n",
        "X_train,X_test,y_train,y_test = train_test_split(X,y,test_size=0.2,random_state=0)"
      ]
    },
    {
      "cell_type": "code",
      "execution_count": null,
      "metadata": {
        "execution": {
          "iopub.execute_input": "2022-03-06T03:34:23.642185Z",
          "iopub.status.busy": "2022-03-06T03:34:23.641345Z",
          "iopub.status.idle": "2022-03-06T03:34:23.656143Z",
          "shell.execute_reply": "2022-03-06T03:34:23.655395Z",
          "shell.execute_reply.started": "2022-03-06T03:34:23.642134Z"
        },
        "id": "U_alwKqFPSLb",
        "trusted": true
      },
      "outputs": [],
      "source": [
        "from sklearn.preprocessing import StandardScaler\n",
        "scaler = StandardScaler()\n",
        "\n",
        "X_train_trf = scaler.fit_transform(X_train)\n",
        "X_test_trf = scaler.transform(X_test)"
      ]
    },
    {
      "cell_type": "code",
      "execution_count": null,
      "metadata": {
        "execution": {
          "iopub.execute_input": "2022-03-06T03:34:31.132229Z",
          "iopub.status.busy": "2022-03-06T03:34:31.131533Z",
          "iopub.status.idle": "2022-03-06T03:34:37.43553Z",
          "shell.execute_reply": "2022-03-06T03:34:37.434835Z",
          "shell.execute_reply.started": "2022-03-06T03:34:31.132167Z"
        },
        "id": "tJ7Z827lPSLb",
        "trusted": true
      },
      "outputs": [],
      "source": [
        "import tensorflow\n",
        "from tensorflow import keras\n",
        "from tensorflow.keras import Sequential\n",
        "from tensorflow.keras.layers import Dense"
      ]
    },
    {
      "cell_type": "code",
      "execution_count": null,
      "metadata": {
        "execution": {
          "iopub.execute_input": "2022-03-06T03:34:37.826813Z",
          "iopub.status.busy": "2022-03-06T03:34:37.82632Z",
          "iopub.status.idle": "2022-03-06T03:34:37.947521Z",
          "shell.execute_reply": "2022-03-06T03:34:37.94658Z",
          "shell.execute_reply.started": "2022-03-06T03:34:37.826746Z"
        },
        "id": "D7ZmlqQkPSLb",
        "trusted": true
      },
      "outputs": [],
      "source": [
        "model = Sequential()\n",
        "\n",
        "model.add(Dense(11,activation='sigmoid',input_dim=11))\n",
        "model.add(Dense(11,activation='sigmoid'))\n",
        "model.add(Dense(1,activation='sigmoid'))"
      ]
    },
    {
      "cell_type": "code",
      "execution_count": null,
      "metadata": {
        "execution": {
          "iopub.execute_input": "2022-03-06T03:34:51.251022Z",
          "iopub.status.busy": "2022-03-06T03:34:51.250291Z",
          "iopub.status.idle": "2022-03-06T03:34:51.258677Z",
          "shell.execute_reply": "2022-03-06T03:34:51.257596Z",
          "shell.execute_reply.started": "2022-03-06T03:34:51.250979Z"
        },
        "id": "1g2wb3ggPSLb",
        "trusted": true
      },
      "outputs": [],
      "source": [
        "model.summary()"
      ]
    },
    {
      "cell_type": "code",
      "execution_count": null,
      "metadata": {
        "execution": {
          "iopub.execute_input": "2022-03-06T03:34:59.301604Z",
          "iopub.status.busy": "2022-03-06T03:34:59.301333Z",
          "iopub.status.idle": "2022-03-06T03:34:59.315593Z",
          "shell.execute_reply": "2022-03-06T03:34:59.314884Z",
          "shell.execute_reply.started": "2022-03-06T03:34:59.301574Z"
        },
        "id": "VcrpV1QMPSLb",
        "trusted": true
      },
      "outputs": [],
      "source": [
        "model.compile(optimizer='Adam',loss='binary_crossentropy',metrics=['accuracy'])"
      ]
    },
    {
      "cell_type": "code",
      "execution_count": null,
      "metadata": {
        "execution": {
          "iopub.execute_input": "2022-03-06T03:35:50.902485Z",
          "iopub.status.busy": "2022-03-06T03:35:50.901904Z",
          "iopub.status.idle": "2022-03-06T03:36:19.45562Z",
          "shell.execute_reply": "2022-03-06T03:36:19.454726Z",
          "shell.execute_reply.started": "2022-03-06T03:35:50.902437Z"
        },
        "id": "mP0yom9-PSLb",
        "trusted": true
      },
      "outputs": [],
      "source": [
        "history = model.fit(X_train,y_train,batch_size=50,epochs=100,verbose=1,validation_split=0.2)"
      ]
    },
    {
      "cell_type": "code",
      "execution_count": null,
      "metadata": {
        "execution": {
          "iopub.execute_input": "2022-03-06T03:36:33.569903Z",
          "iopub.status.busy": "2022-03-06T03:36:33.569599Z",
          "iopub.status.idle": "2022-03-06T03:36:33.770856Z",
          "shell.execute_reply": "2022-03-06T03:36:33.770114Z",
          "shell.execute_reply.started": "2022-03-06T03:36:33.569868Z"
        },
        "id": "PvTzIxj9PSLb",
        "trusted": true
      },
      "outputs": [],
      "source": [
        "y_pred = model.predict(X_test)"
      ]
    },
    {
      "cell_type": "code",
      "execution_count": null,
      "metadata": {
        "execution": {
          "iopub.execute_input": "2022-03-06T03:36:43.782192Z",
          "iopub.status.busy": "2022-03-06T03:36:43.781671Z",
          "iopub.status.idle": "2022-03-06T03:36:43.789507Z",
          "shell.execute_reply": "2022-03-06T03:36:43.788484Z",
          "shell.execute_reply.started": "2022-03-06T03:36:43.782156Z"
        },
        "id": "3aCSHp3mPSLb",
        "trusted": true
      },
      "outputs": [],
      "source": [
        "y_pred"
      ]
    },
    {
      "cell_type": "code",
      "execution_count": null,
      "metadata": {
        "execution": {
          "iopub.execute_input": "2022-03-06T03:36:53.420271Z",
          "iopub.status.busy": "2022-03-06T03:36:53.41984Z",
          "iopub.status.idle": "2022-03-06T03:36:53.425184Z",
          "shell.execute_reply": "2022-03-06T03:36:53.424317Z",
          "shell.execute_reply.started": "2022-03-06T03:36:53.420233Z"
        },
        "id": "DrNJARQyPSLb",
        "trusted": true
      },
      "outputs": [],
      "source": [
        "y_pred = y_pred.argmax(axis=-1)"
      ]
    },
    {
      "cell_type": "code",
      "execution_count": null,
      "metadata": {
        "execution": {
          "iopub.execute_input": "2022-03-06T03:37:01.490157Z",
          "iopub.status.busy": "2022-03-06T03:37:01.489866Z",
          "iopub.status.idle": "2022-03-06T03:37:01.498513Z",
          "shell.execute_reply": "2022-03-06T03:37:01.497608Z",
          "shell.execute_reply.started": "2022-03-06T03:37:01.490129Z"
        },
        "id": "EJeCd7rNPSLb",
        "trusted": true
      },
      "outputs": [],
      "source": [
        "from sklearn.metrics import accuracy_score\n",
        "accuracy_score(y_test,y_pred)"
      ]
    },
    {
      "cell_type": "code",
      "execution_count": null,
      "metadata": {
        "execution": {
          "iopub.execute_input": "2022-03-06T03:37:10.534504Z",
          "iopub.status.busy": "2022-03-06T03:37:10.534076Z",
          "iopub.status.idle": "2022-03-06T03:37:10.742592Z",
          "shell.execute_reply": "2022-03-06T03:37:10.741662Z",
          "shell.execute_reply.started": "2022-03-06T03:37:10.534473Z"
        },
        "id": "t_-F5UsDPSLb",
        "trusted": true
      },
      "outputs": [],
      "source": [
        "import matplotlib.pyplot as plt\n",
        "\n",
        "plt.plot(history.history['loss'])\n",
        "plt.plot(history.history['val_loss'])"
      ]
    },
    {
      "cell_type": "code",
      "execution_count": null,
      "metadata": {
        "execution": {
          "iopub.execute_input": "2022-03-06T03:37:24.164195Z",
          "iopub.status.busy": "2022-03-06T03:37:24.163624Z",
          "iopub.status.idle": "2022-03-06T03:37:24.378329Z",
          "shell.execute_reply": "2022-03-06T03:37:24.377501Z",
          "shell.execute_reply.started": "2022-03-06T03:37:24.16415Z"
        },
        "id": "PlMdtyeWPSLc",
        "trusted": true
      },
      "outputs": [],
      "source": [
        "plt.plot(history.history['accuracy'])\n",
        "plt.plot(history.history['val_accuracy'])"
      ]
    },
    {
      "cell_type": "code",
      "execution_count": null,
      "metadata": {
        "id": "2h3wuzZ1PSLc"
      },
      "outputs": [],
      "source": []
    }
  ],
  "metadata": {
    "colab": {
      "include_colab_link": true,
      "name": "notebook8ad570467f",
      "provenance": []
    },
    "kaggle": {
      "accelerator": "none",
      "dataSources": [
        {
          "datasetId": 869651,
          "sourceId": 1481789,
          "sourceType": "datasetVersion"
        }
      ],
      "dockerImageVersionId": 30170,
      "isGpuEnabled": false,
      "isInternetEnabled": false,
      "language": "python",
      "sourceType": "notebook"
    },
    "kernelspec": {
      "display_name": "Python 3",
      "language": "python",
      "name": "python3"
    },
    "language_info": {
      "codemirror_mode": {
        "name": "ipython",
        "version": 3
      },
      "file_extension": ".py",
      "mimetype": "text/x-python",
      "name": "python",
      "nbconvert_exporter": "python",
      "pygments_lexer": "ipython3",
      "version": "3.6.4"
    }
  },
  "nbformat": 4,
  "nbformat_minor": 0
}
